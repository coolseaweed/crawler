{
 "cells": [
  {
   "cell_type": "code",
   "execution_count": 6,
   "metadata": {},
   "outputs": [
    {
     "name": "stderr",
     "output_type": "stream",
     "text": [
      "/var/folders/q0/9z_mzpps4v5f03vr8vrq6xk00000gn/T/ipykernel_22558/3587154423.py:10: DtypeWarning: Columns (0,5,10,17) have mixed types. Specify dtype option on import or set low_memory=False.\n",
      "  df = pd.read_csv(file_path)\n"
     ]
    },
    {
     "name": "stdout",
     "output_type": "stream",
     "text": [
      "<class 'pandas.core.frame.DataFrame'>\n",
      "RangeIndex: 477291 entries, 0 to 477290\n",
      "Data columns (total 23 columns):\n",
      " #   Column                  Non-Null Count   Dtype  \n",
      "---  ------                  --------------   -----  \n",
      " 0   certUid                 477288 non-null  object \n",
      " 1   certOrganName           477291 non-null  object \n",
      " 2   certNum                 477291 non-null  object \n",
      " 3   certState               477289 non-null  object \n",
      " 4   certDiv                 477291 non-null  object \n",
      " 5   certDate                477291 non-null  object \n",
      " 6   certChgDate             3 non-null       float64\n",
      " 7   certChgReason           92728 non-null   object \n",
      " 8   firstCertNum            462966 non-null  object \n",
      " 9   productName             477237 non-null  object \n",
      " 10  brandName               7827 non-null    object \n",
      " 11  modelName               477282 non-null  object \n",
      " 12  categoryName            415712 non-null  object \n",
      " 13  importDiv               421186 non-null  object \n",
      " 14  makerName               418058 non-null  object \n",
      " 15  makerCntryName          421186 non-null  object \n",
      " 16  importerName            256026 non-null  object \n",
      " 17  remark                  51334 non-null   object \n",
      " 18  signDate                421186 non-null  float64\n",
      " 19  derivationModels        0 non-null       float64\n",
      " 20  certificationImageUrls  0 non-null       float64\n",
      " 21  factories               0 non-null       float64\n",
      " 22  similarCertifications   0 non-null       float64\n",
      "dtypes: float64(6), object(17)\n",
      "memory usage: 83.8+ MB\n"
     ]
    }
   ],
   "source": [
    "\n",
    "import pandas as pd\n",
    "import matplotlib.pyplot as plt\n",
    "\n",
    "plt.rcParams['font.family'] = 'NanumBarunGothic'\n",
    "plt.rcParams[\"axes.unicode_minus\"] = False\n",
    "\n",
    "\n",
    "# CSV 파일 불러오기\n",
    "file_path = 'data/kc/chinese_factories.csv'\n",
    "df = pd.read_csv(file_path)\n",
    "\n",
    "df.info()"
   ]
  },
  {
   "cell_type": "markdown",
   "metadata": {},
   "source": [
    "### 연도별 KC인증 수 추이"
   ]
  },
  {
   "cell_type": "code",
   "execution_count": null,
   "metadata": {},
   "outputs": [],
   "source": [
    "\n",
    "pattern = r'^\\d{8}$'\n",
    "df = df[df['certDate'].astype(str).str.match(pattern)]\n",
    "\n",
    "df['year'] = df['certDate'].astype(str).str[:4]\n",
    "\n",
    "# 연도별 리포트 개수 집계\n",
    "year_counts = df.groupby('year').size().reset_index(name='report_count')\n",
    "\n",
    "# 연도 순으로 정렬 (문자열 정렬일 경우 숫자로 변환 후 정렬하면 더 정확할 수 있습니다)\n",
    "year_counts['year'] = year_counts['year'].astype(int)\n",
    "year_counts = year_counts.sort_values('year')\n",
    "\n",
    "# matplotlib을 이용해 추이 시각화\n",
    "plt.figure(figsize=(10, 6))\n",
    "plt.plot(year_counts['year'], year_counts['report_count'], marker='o')\n",
    "plt.xlabel('연도')\n",
    "plt.ylabel('KC 인증 수')\n",
    "plt.title('연도별 KC 인증 수 추이')\n",
    "plt.grid(False)\n",
    "plt.xticks(year_counts['year'], rotation=45)  # 모든 연도를 x축에 표시하고 회전\n",
    "plt.show()"
   ]
  },
  {
   "cell_type": "markdown",
   "metadata": {},
   "source": [
    "### KC인증 상태 통계"
   ]
  },
  {
   "cell_type": "code",
   "execution_count": null,
   "metadata": {},
   "outputs": [],
   "source": [
    "# certState 컬럼의 각 상태별 count 계산\n",
    "state_counts = df['certState'].value_counts().reset_index()\n",
    "state_counts.columns = ['certState', 'count']\n",
    "\n",
    "# 막대그래프 시각화\n",
    "plt.figure(figsize=(10, 6))\n",
    "bars = plt.bar(state_counts['certState'], state_counts['count'])\n",
    "plt.xlabel('인증 상태 (certState)')\n",
    "plt.ylabel('개수')\n",
    "plt.title('인증 상태별 레코드 개수')\n",
    "plt.xticks(rotation=45)\n",
    "plt.grid(axis='y', linestyle='--', alpha=0.7)\n",
    "\n",
    "# 각 막대 위에 데이터 라벨 추가\n",
    "for bar in bars:\n",
    "    height = bar.get_height()\n",
    "    plt.text(\n",
    "        bar.get_x() + bar.get_width() / 2, height, \n",
    "        f'{int(height)}', ha='center', va='bottom'\n",
    "    )\n",
    "\n",
    "plt.show()"
   ]
  },
  {
   "cell_type": "markdown",
   "metadata": {},
   "source": [
    "### 지역 이름이 포함된 공장 통계"
   ]
  },
  {
   "cell_type": "code",
   "execution_count": null,
   "metadata": {},
   "outputs": [],
   "source": [
    "df = df.dropna(subset=['makerName'])\n",
    "df['makerName_upper'] = df['makerName'].str.upper()\n",
    "\n",
    "# 대표적인 중국 제조지역 리스트 (모두 대문자)\n",
    "regions = [\n",
    "    'SHENZHEN', 'SHANGHAI', 'BEIJING', 'GUANGZHOU', 'CHENGDU',\n",
    "    'TIANJIN', 'DONGGUAN', 'SUZHOU', 'WUHAN', 'CHONGQING'\n",
    "]\n",
    "\n",
    "# 각 지역 문자열이 포함된 unique makerName 개수를 nunique()로 계산\n",
    "region_counts = {}\n",
    "for region in regions:\n",
    "    count = df[df['makerName_upper'].str.contains(region, na=False)]['makerName_upper'].nunique()\n",
    "    region_counts[region] = count\n",
    "\n",
    "# 결과를 DataFrame으로 정리하여 출력\n",
    "region_counts_df = pd.DataFrame(list(region_counts.items()), columns=['Region', 'Unique Maker Count'])\n",
    "print(region_counts_df)"
   ]
  },
  {
   "cell_type": "code",
   "execution_count": null,
   "metadata": {},
   "outputs": [],
   "source": [
    "df.head()"
   ]
  },
  {
   "cell_type": "markdown",
   "metadata": {},
   "source": [
    "### 공장 유사 이름 클러스터링 (실험단계)"
   ]
  },
  {
   "cell_type": "code",
   "execution_count": null,
   "metadata": {},
   "outputs": [],
   "source": [
    "import re\n",
    "from rapidfuzz import fuzz\n",
    "import json\n",
    "\n",
    "unique_list = list(set(df['makerName_upper']))\n",
    "\n",
    "# unique_list를 JSON 파일로 저장 (인코딩 및 indent 옵션 포함)\n",
    "with open('unique_maker_names.json', 'w', encoding='utf-8') as f:\n",
    "    json.dump(unique_list, f, ensure_ascii=False, indent=4)\n",
    "\n",
    "df = df.dropna(subset=['makerName'])\n",
    "df['makerName_upper'] = df['makerName'].str.upper()\n",
    "\n",
    "# 고유 업체명 리스트 추출\n",
    "unique_names = df['makerName_upper'].unique().tolist()\n",
    "\n",
    "# 업체명 정규화 함수 정의: 불필요한 단어와 구두점 제거\n",
    "def normalize_company_name(name):\n",
    "    # 제거할 공통 단어 리스트 (필요에 따라 추가/수정 가능)\n",
    "    common_words = ['CO LTD', 'LTD', 'INC', 'CORP', 'COMPANY', '유한공사', '주식회사', 'FACTORY', 'PLC']\n",
    "    # 구두점 제거\n",
    "    name = re.sub(r'[^\\w\\s]', '', name)\n",
    "    # 각 불필요한 단어 제거\n",
    "    for word in common_words:\n",
    "        name = name.replace(word, '')\n",
    "    # 여분의 공백 제거 후 반환\n",
    "    return ' '.join(name.split())\n",
    "\n",
    "# 정규화된 업체명 딕셔너리 생성: 원본 업체명 -> 정규화 업체명\n",
    "normalized_names = {name: normalize_company_name(name) for name in unique_names}\n",
    "\n",
    "# fuzzy matching을 이용한 클러스터링\n",
    "clusters = {}  # {정규화 업체명 대표: [원본 업체명 목록]}\n",
    "threshold = 100  # 유사도 임계값 (0~100 사이, 값이 클수록 엄격함)\n",
    "\n",
    "for original, norm in normalized_names.items():\n",
    "    added = False\n",
    "    # 기존 클러스터와 비교하여 유사도가 임계값 이상이면 같은 그룹에 추가\n",
    "    for rep in clusters:\n",
    "        score = fuzz.ratio(norm, rep)\n",
    "        if score >= threshold:\n",
    "            clusters[rep].append(original)\n",
    "            added = True\n",
    "            break\n",
    "    # 어떤 클러스터에도 속하지 않으면 새로운 클러스터 생성\n",
    "    if not added:\n",
    "        clusters[norm] = [original]\n",
    "\n",
    "print(f\"total cluster #: {len(clusters)}\")\n",
    "with open('cluster.json', 'w', encoding='utf-8') as f:\n",
    "    json.dump(clusters, f, ensure_ascii=False, indent=4)"
   ]
  }
 ],
 "metadata": {
  "kernelspec": {
   "display_name": "py310",
   "language": "python",
   "name": "python3"
  },
  "language_info": {
   "codemirror_mode": {
    "name": "ipython",
    "version": 3
   },
   "file_extension": ".py",
   "mimetype": "text/x-python",
   "name": "python",
   "nbconvert_exporter": "python",
   "pygments_lexer": "ipython3",
   "version": "3.10.16"
  }
 },
 "nbformat": 4,
 "nbformat_minor": 2
}
